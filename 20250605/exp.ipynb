{
 "cells": [
  {
   "cell_type": "markdown",
   "id": "fffee8d9",
   "metadata": {},
   "source": [
    "# Envs"
   ]
  },
  {
   "cell_type": "code",
   "execution_count": 1,
   "id": "ca43ddbd",
   "metadata": {},
   "outputs": [
    {
     "name": "stdout",
     "output_type": "stream",
     "text": [
      "Collecting pyfirmata\n",
      "  Downloading pyFirmata-1.1.0-py2.py3-none-any.whl.metadata (3.8 kB)\n",
      "Requirement already satisfied: pyserial in c:\\users\\20245580\\appdata\\local\\anaconda3\\envs\\microcontroller\\lib\\site-packages (from pyfirmata) (3.5)\n",
      "Downloading pyFirmata-1.1.0-py2.py3-none-any.whl (14 kB)\n",
      "Installing collected packages: pyfirmata\n",
      "Successfully installed pyfirmata-1.1.0\n",
      "Note: you may need to restart the kernel to use updated packages.\n"
     ]
    }
   ],
   "source": [
    "# %pip install pyfirmata"
   ]
  },
  {
   "cell_type": "markdown",
   "id": "515fbf88",
   "metadata": {},
   "source": [
    "# Arduino board"
   ]
  },
  {
   "cell_type": "code",
   "execution_count": null,
   "id": "5bd362d3",
   "metadata": {},
   "outputs": [],
   "source": [
    "import pyfirmata\n",
    "import time\n",
    "\n",
    "board = pyfirmata.Arduino('COM8')"
   ]
  },
  {
   "cell_type": "code",
   "execution_count": 3,
   "id": "2f69dcb8",
   "metadata": {},
   "outputs": [
    {
     "name": "stdout",
     "output_type": "stream",
     "text": [
      "HIGH\n"
     ]
    },
    {
     "ename": "KeyboardInterrupt",
     "evalue": "",
     "output_type": "error",
     "traceback": [
      "\u001b[1;31m---------------------------------------------------------------------------\u001b[0m",
      "\u001b[1;31mKeyboardInterrupt\u001b[0m                         Traceback (most recent call last)",
      "Cell \u001b[1;32mIn[3], line 6\u001b[0m\n\u001b[0;32m      4\u001b[0m board\u001b[38;5;241m.\u001b[39mdigital[\u001b[38;5;241m9\u001b[39m]\u001b[38;5;241m.\u001b[39mwrite(\u001b[38;5;241m1\u001b[39m) \u001b[38;5;66;03m# digital pin 13 = built-in LED\u001b[39;00m\n\u001b[0;32m      5\u001b[0m board\u001b[38;5;241m.\u001b[39mdigital[\u001b[38;5;241m10\u001b[39m]\u001b[38;5;241m.\u001b[39mwrite(\u001b[38;5;241m1\u001b[39m) \u001b[38;5;66;03m# digital pin 13 = built-in LED\u001b[39;00m\n\u001b[1;32m----> 6\u001b[0m \u001b[43mtime\u001b[49m\u001b[38;5;241;43m.\u001b[39;49m\u001b[43msleep\u001b[49m\u001b[43m(\u001b[49m\u001b[38;5;241;43m10\u001b[39;49m\u001b[43m)\u001b[49m \u001b[38;5;66;03m# second\u001b[39;00m\n\u001b[0;32m      7\u001b[0m \u001b[38;5;28mprint\u001b[39m(\u001b[38;5;124mf\u001b[39m\u001b[38;5;124m\"\u001b[39m\u001b[38;5;124mLOW\u001b[39m\u001b[38;5;124m\"\u001b[39m)\n\u001b[0;32m      8\u001b[0m \u001b[38;5;66;03m# For the relay board: LOW = ON\u001b[39;00m\n",
      "\u001b[1;31mKeyboardInterrupt\u001b[0m: "
     ]
    }
   ],
   "source": [
    "while True:\n",
    "    print(f\"HIGH\")\n",
    "    # For the relay board: HIGH = OFF\n",
    "    board.digital[9].write(1) # digital pin 13 = built-in LED\n",
    "    board.digital[10].write(1) # digital pin 13 = built-in LED\n",
    "    time.sleep(10) # second\n",
    "    print(f\"LOW\")\n",
    "    # For the relay board: LOW = ON\n",
    "    board.digital[9].write(0)\n",
    "    board.digital[10].write(0)\n",
    "    time.sleep(10)"
   ]
  },
  {
   "cell_type": "markdown",
   "id": "830f07b8",
   "metadata": {},
   "source": [
    "# Keithley"
   ]
  },
  {
   "cell_type": "code",
   "execution_count": 5,
   "id": "12d33357",
   "metadata": {},
   "outputs": [],
   "source": [
    "import pyvisa"
   ]
  },
  {
   "cell_type": "code",
   "execution_count": 6,
   "id": "748608de",
   "metadata": {},
   "outputs": [
    {
     "name": "stdout",
     "output_type": "stream",
     "text": [
      "('USB0::0x05E6::0x2636::4480001::INSTR', 'ASRL8::INSTR')\n"
     ]
    }
   ],
   "source": [
    "rm = pyvisa.ResourceManager('C:/windows/System32/visa64.dll')\n",
    "print(rm.list_resources())"
   ]
  },
  {
   "cell_type": "code",
   "execution_count": 1,
   "id": "84a97794",
   "metadata": {},
   "outputs": [],
   "source": [
    "from  keithley2600 import Keithley2600"
   ]
  },
  {
   "cell_type": "code",
   "execution_count": 2,
   "id": "58b41d39",
   "metadata": {},
   "outputs": [],
   "source": [
    "k = Keithley2600('USB0::0x05E6::0x2636::4480001::INSTR', visa_library = 'C:/windows/System32/visa64.dll')"
   ]
  },
  {
   "cell_type": "code",
   "execution_count": 3,
   "id": "2e89b3a9",
   "metadata": {},
   "outputs": [],
   "source": [
    "# turn on SMUA\n",
    "k.smua.source.output = k.smua.OUTPUT_ON "
   ]
  },
  {
   "cell_type": "code",
   "execution_count": 4,
   "id": "9d28bbe7",
   "metadata": {},
   "outputs": [],
   "source": [
    "k.smua.source.output = k.smua.OUTPUT_OFF"
   ]
  },
  {
   "cell_type": "markdown",
   "id": "5061d022",
   "metadata": {},
   "source": [
    "## measurement of the gate resistance"
   ]
  },
  {
   "cell_type": "code",
   "execution_count": 27,
   "id": "429eca3d",
   "metadata": {},
   "outputs": [],
   "source": [
    "# Restore 2600B defaults.\n",
    "k.smua.reset()\n",
    "# Select the current source function.\n",
    "k.smua.source.func = k.smua.OUTPUT_DCAMPS\n",
    "# Set the source range to 10 mA. = resolution\n",
    "k.smua.source.rangei = 10e-3\n",
    "# Set the current source to 10 mA. (Bias/ Dc)\n",
    "k.smua.source.leveli = 10e-3\n",
    "# Set the voltage limit to 10 V. = safety\n",
    "k.smua.source.limitv = 10\n",
    "# Enable 2-wire ohms.\n",
    "k.smua.sense = k.smua.SENSE_LOCAL\n",
    "# Set the voltage range to auto.\n",
    "k.smua.measure.autorangev = k.smua.AUTORANGE_ON\n",
    "# Turn on output.\n",
    "k.smua.source.output = k.smua.OUTPUT_ON"
   ]
  },
  {
   "cell_type": "code",
   "execution_count": 28,
   "id": "b2fd99b3",
   "metadata": {},
   "outputs": [],
   "source": [
    "# Retrieve a resistance reading.\n",
    "import time\n",
    "time.sleep(1) # for the system to be stable\n",
    "measured_r = []\n",
    "for i in range(0, 100): # make 100 measurement and take average\n",
    "    sample_r = k.smua.measure.r()\n",
    "    measured_r.append(sample_r)\n",
    "    time.sleep(0.1)"
   ]
  },
  {
   "cell_type": "code",
   "execution_count": 29,
   "id": "73a90f08",
   "metadata": {},
   "outputs": [],
   "source": [
    "# Turn off output.\n",
    "k.smua.source.output = k.smua.OUTPUT_OFF"
   ]
  },
  {
   "cell_type": "code",
   "execution_count": 30,
   "id": "d8e3eb66",
   "metadata": {},
   "outputs": [
    {
     "name": "stdout",
     "output_type": "stream",
     "text": [
      "r = 327.66637 kOhm\n"
     ]
    }
   ],
   "source": [
    "import numpy as np\n",
    "print(f\"r = {(sum(measured_r) / len(measured_r))/ 1e3} kOhm\")"
   ]
  },
  {
   "cell_type": "markdown",
   "id": "e97dbe32",
   "metadata": {},
   "source": [
    "REPORT OF THE MEASUREMENT \n",
    "\n",
    "- Detail: gate resistance of oect\n",
    "\n",
    "  - 1. OECT 6: r = 423.90777 kOhm\n",
    "\n",
    "  - 2. OECT 5: r = 211.31303 kOhm\n",
    "\n",
    "  - 3. OECT 4: r = 327.66637 kOhm\n",
    "\n"
   ]
  }
 ],
 "metadata": {
  "kernelspec": {
   "display_name": "microcontroller",
   "language": "python",
   "name": "python3"
  },
  "language_info": {
   "codemirror_mode": {
    "name": "ipython",
    "version": 3
   },
   "file_extension": ".py",
   "mimetype": "text/x-python",
   "name": "python",
   "nbconvert_exporter": "python",
   "pygments_lexer": "ipython3",
   "version": "3.10.16"
  }
 },
 "nbformat": 4,
 "nbformat_minor": 5
}
